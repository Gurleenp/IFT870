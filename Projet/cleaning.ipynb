{
 "cells": [
  {
   "cell_type": "markdown",
   "metadata": {},
   "source": [
    "### TODO\n",
    "- Manage NA values\n",
    "- Manage useless features\n",
    "    - `year` : merge with name\n",
    "    - `link`, `logo` : delete\n",
    "- Looking for strange values\n",
    "    - score_i > score_j && rank_i > rank_j\n",
    "- Using pandas categories\n",
    "    - `country`, `city`, `region`\n",
    "    - `type`, `size`, `research_ouptut`\n",
    "- Looking for correlation between features\n",
    "- Calculate rank for values with score but no rank (Temporarily dropped rows with no rank)\n"
   ]
  },
  {
   "cell_type": "markdown",
   "metadata": {},
   "source": [
    "### Rapport du prof\n",
    "- Tester différentes métriques\n",
    "- Modèles à utiliser :\n",
    "    - Linear model \n",
    "    - XGBoost ++\n",
    "    - Decision tree\n",
    "- Visualiser les données (matrice de corrélation)\n"
   ]
  },
  {
   "cell_type": "markdown",
   "metadata": {},
   "source": [
    "\n",
    "# Projet de session\n",
    "\n",
    "## QS World University Rankings (2017 to 2022)\n",
    "\n",
    "(Noms)"
   ]
  },
  {
   "cell_type": "markdown",
   "metadata": {},
   "source": [
    "### Notebook settings and imports"
   ]
  },
  {
   "cell_type": "code",
   "execution_count": 1131,
   "metadata": {},
   "outputs": [],
   "source": [
    "import numpy as np\n",
    "\n",
    "import pandas as pd\n",
    "from pandas.api.types import is_object_dtype\n",
    "\n",
    "import matplotlib.pyplot as plt\n",
    "import seaborn as sns\n",
    "%matplotlib inline\n",
    "\n",
    "import warnings\n",
    "warnings.filterwarnings('ignore')"
   ]
  },
  {
   "cell_type": "markdown",
   "metadata": {},
   "source": [
    "### Loading data"
   ]
  },
  {
   "cell_type": "code",
   "execution_count": 1132,
   "metadata": {},
   "outputs": [
    {
     "data": {
      "text/html": [
       "<div>\n",
       "<style scoped>\n",
       "    .dataframe tbody tr th:only-of-type {\n",
       "        vertical-align: middle;\n",
       "    }\n",
       "\n",
       "    .dataframe tbody tr th {\n",
       "        vertical-align: top;\n",
       "    }\n",
       "\n",
       "    .dataframe thead th {\n",
       "        text-align: right;\n",
       "    }\n",
       "</style>\n",
       "<table border=\"1\" class=\"dataframe\">\n",
       "  <thead>\n",
       "    <tr style=\"text-align: right;\">\n",
       "      <th></th>\n",
       "      <th>university</th>\n",
       "      <th>year</th>\n",
       "      <th>rank_display</th>\n",
       "      <th>score</th>\n",
       "      <th>link</th>\n",
       "      <th>country</th>\n",
       "      <th>city</th>\n",
       "      <th>region</th>\n",
       "      <th>logo</th>\n",
       "      <th>type</th>\n",
       "      <th>research_output</th>\n",
       "      <th>student_faculty_ratio</th>\n",
       "      <th>international_students</th>\n",
       "      <th>size</th>\n",
       "      <th>faculty_count</th>\n",
       "    </tr>\n",
       "  </thead>\n",
       "  <tbody>\n",
       "    <tr>\n",
       "      <th>0</th>\n",
       "      <td>Massachusetts Institute of Technology (MIT)</td>\n",
       "      <td>2017</td>\n",
       "      <td>1</td>\n",
       "      <td>100.0</td>\n",
       "      <td>https://www.topuniversities.com/universities/m...</td>\n",
       "      <td>United States</td>\n",
       "      <td>Cambridge</td>\n",
       "      <td>North America</td>\n",
       "      <td>https://www.topuniversities.com/sites/default/...</td>\n",
       "      <td>Private</td>\n",
       "      <td>Very High</td>\n",
       "      <td>4.0</td>\n",
       "      <td>3,730</td>\n",
       "      <td>M</td>\n",
       "      <td>3,065</td>\n",
       "    </tr>\n",
       "    <tr>\n",
       "      <th>1</th>\n",
       "      <td>Stanford University</td>\n",
       "      <td>2017</td>\n",
       "      <td>2</td>\n",
       "      <td>98.7</td>\n",
       "      <td>https://www.topuniversities.com/universities/s...</td>\n",
       "      <td>United States</td>\n",
       "      <td>Stanford</td>\n",
       "      <td>North America</td>\n",
       "      <td>https://www.topuniversities.com/sites/default/...</td>\n",
       "      <td>Private</td>\n",
       "      <td>Very High</td>\n",
       "      <td>3.0</td>\n",
       "      <td>3,879</td>\n",
       "      <td>L</td>\n",
       "      <td>4,725</td>\n",
       "    </tr>\n",
       "    <tr>\n",
       "      <th>2</th>\n",
       "      <td>Harvard University</td>\n",
       "      <td>2017</td>\n",
       "      <td>3</td>\n",
       "      <td>98.3</td>\n",
       "      <td>https://www.topuniversities.com/universities/h...</td>\n",
       "      <td>United States</td>\n",
       "      <td>Cambridge</td>\n",
       "      <td>North America</td>\n",
       "      <td>https://www.topuniversities.com/sites/default/...</td>\n",
       "      <td>Private</td>\n",
       "      <td>Very High</td>\n",
       "      <td>5.0</td>\n",
       "      <td>5,877</td>\n",
       "      <td>L</td>\n",
       "      <td>4,646</td>\n",
       "    </tr>\n",
       "    <tr>\n",
       "      <th>3</th>\n",
       "      <td>University of Cambridge</td>\n",
       "      <td>2017</td>\n",
       "      <td>4</td>\n",
       "      <td>97.2</td>\n",
       "      <td>https://www.topuniversities.com/universities/u...</td>\n",
       "      <td>United Kingdom</td>\n",
       "      <td>Cambridge</td>\n",
       "      <td>Europe</td>\n",
       "      <td>https://www.topuniversities.com/sites/default/...</td>\n",
       "      <td>Public</td>\n",
       "      <td>Very high</td>\n",
       "      <td>4.0</td>\n",
       "      <td>7,925</td>\n",
       "      <td>L</td>\n",
       "      <td>5,800</td>\n",
       "    </tr>\n",
       "    <tr>\n",
       "      <th>4</th>\n",
       "      <td>California Institute of Technology (Caltech)</td>\n",
       "      <td>2017</td>\n",
       "      <td>5</td>\n",
       "      <td>96.9</td>\n",
       "      <td>https://www.topuniversities.com/universities/c...</td>\n",
       "      <td>United States</td>\n",
       "      <td>Pasadena</td>\n",
       "      <td>North America</td>\n",
       "      <td>https://www.topuniversities.com/sites/default/...</td>\n",
       "      <td>Private</td>\n",
       "      <td>Very High</td>\n",
       "      <td>2.0</td>\n",
       "      <td>692</td>\n",
       "      <td>S</td>\n",
       "      <td>968</td>\n",
       "    </tr>\n",
       "  </tbody>\n",
       "</table>\n",
       "</div>"
      ],
      "text/plain": [
       "                                     university  year rank_display  score  \\\n",
       "0  Massachusetts Institute of Technology (MIT)   2017            1  100.0   \n",
       "1                           Stanford University  2017            2   98.7   \n",
       "2                            Harvard University  2017            3   98.3   \n",
       "3                       University of Cambridge  2017            4   97.2   \n",
       "4  California Institute of Technology (Caltech)  2017            5   96.9   \n",
       "\n",
       "                                                link         country  \\\n",
       "0  https://www.topuniversities.com/universities/m...   United States   \n",
       "1  https://www.topuniversities.com/universities/s...   United States   \n",
       "2  https://www.topuniversities.com/universities/h...   United States   \n",
       "3  https://www.topuniversities.com/universities/u...  United Kingdom   \n",
       "4  https://www.topuniversities.com/universities/c...   United States   \n",
       "\n",
       "        city         region  \\\n",
       "0  Cambridge  North America   \n",
       "1   Stanford  North America   \n",
       "2  Cambridge  North America   \n",
       "3  Cambridge         Europe   \n",
       "4   Pasadena  North America   \n",
       "\n",
       "                                                logo     type research_output  \\\n",
       "0  https://www.topuniversities.com/sites/default/...  Private       Very High   \n",
       "1  https://www.topuniversities.com/sites/default/...  Private       Very High   \n",
       "2  https://www.topuniversities.com/sites/default/...  Private       Very High   \n",
       "3  https://www.topuniversities.com/sites/default/...   Public       Very high   \n",
       "4  https://www.topuniversities.com/sites/default/...  Private       Very High   \n",
       "\n",
       "   student_faculty_ratio international_students size faculty_count  \n",
       "0                    4.0                  3,730    M         3,065  \n",
       "1                    3.0                  3,879    L         4,725  \n",
       "2                    5.0                  5,877    L         4,646  \n",
       "3                    4.0                  7,925    L         5,800  \n",
       "4                    2.0                    692    S           968  "
      ]
     },
     "execution_count": 1132,
     "metadata": {},
     "output_type": "execute_result"
    }
   ],
   "source": [
    "data_init = pd.read_csv(\"qs-world-university-rankings-2017-to-2022-V2.csv\")\n",
    "N_init, D_init = data_init.shape\n",
    "data_init.head()"
   ]
  },
  {
   "cell_type": "code",
   "execution_count": 1133,
   "metadata": {},
   "outputs": [
    {
     "name": "stdout",
     "output_type": "stream",
     "text": [
      "<class 'pandas.core.frame.DataFrame'>\n",
      "RangeIndex: 6482 entries, 0 to 6481\n",
      "Data columns (total 15 columns):\n",
      " #   Column                  Non-Null Count  Dtype  \n",
      "---  ------                  --------------  -----  \n",
      " 0   university              6482 non-null   object \n",
      " 1   year                    6482 non-null   int64  \n",
      " 2   rank_display            6414 non-null   object \n",
      " 3   score                   2820 non-null   float64\n",
      " 4   link                    6482 non-null   object \n",
      " 5   country                 6482 non-null   object \n",
      " 6   city                    6304 non-null   object \n",
      " 7   region                  6482 non-null   object \n",
      " 8   logo                    6482 non-null   object \n",
      " 9   type                    6470 non-null   object \n",
      " 10  research_output         6480 non-null   object \n",
      " 11  student_faculty_ratio   6407 non-null   float64\n",
      " 12  international_students  6318 non-null   object \n",
      " 13  size                    6480 non-null   object \n",
      " 14  faculty_count           6404 non-null   object \n",
      "dtypes: float64(2), int64(1), object(12)\n",
      "memory usage: 759.7+ KB\n"
     ]
    }
   ],
   "source": [
    "data_init.info()"
   ]
  },
  {
   "cell_type": "markdown",
   "metadata": {},
   "source": [
    "### Clean-up : useless features"
   ]
  },
  {
   "cell_type": "code",
   "execution_count": 1134,
   "metadata": {},
   "outputs": [],
   "source": [
    "# Drop useless columns\n",
    "useless_columns = [\n",
    "    \"link\",\n",
    "    \"logo\"\n",
    "]\n",
    "data = data_init.drop(columns=useless_columns, axis=1)"
   ]
  },
  {
   "cell_type": "markdown",
   "metadata": {},
   "source": [
    "### Managing few columns"
   ]
  },
  {
   "cell_type": "code",
   "execution_count": 1135,
   "metadata": {},
   "outputs": [],
   "source": [
    "# Merge year with university's name\n",
    "\n",
    "university_with_year = data[\"university\"] + data[\"year\"].map(\" ({})\".format)\n",
    "data.insert(0, \"university_with_year\", university_with_year)"
   ]
  },
  {
   "cell_type": "code",
   "execution_count": 1136,
   "metadata": {},
   "outputs": [],
   "source": [
    "# In rank, replace N-M with N\n",
    "rank_display_raw = data[\"rank_display\"].map(lambda rank: str(rank).split(\"-\")[0], na_action='ignore')\n",
    "rank_display_raw = rank_display_raw.fillna(0)  # pour pouvoir convertir en entier\n",
    "rank_display_raw = rank_display_raw.astype('int')\n",
    "\n",
    "data.insert(4, \"rank_display_raw\", rank_display_raw)\n",
    "data[\"rank_display_raw\"] = data['rank_display_raw'].replace(0, np.nan)"
   ]
  },
  {
   "cell_type": "code",
   "execution_count": 1137,
   "metadata": {},
   "outputs": [],
   "source": [
    "# Creating new feature for classification\n",
    "data[\"class\"] = [rank//100 for rank in data[\"rank_display_raw\"]]"
   ]
  },
  {
   "cell_type": "code",
   "execution_count": 1138,
   "metadata": {},
   "outputs": [],
   "source": [
    "# international_students and faculty_count are integers written as strings\n",
    "for col in (\"international_students\", \"faculty_count\"):\n",
    "    if is_object_dtype(data[col]):\n",
    "        data[col] = data[col].str.replace(',', '')\n",
    "        data[col] = data[col].str.replace('.', '')\n",
    "        data[col] = pd.to_numeric(data[col], errors='coerce')"
   ]
  },
  {
   "cell_type": "markdown",
   "metadata": {},
   "source": [
    "### Converting objects to categorical"
   ]
  },
  {
   "cell_type": "code",
   "execution_count": 1139,
   "metadata": {},
   "outputs": [],
   "source": [
    "# In some columns different caps lead to different categories\n",
    "# So before assigning categories everything is lowercased\n",
    "for col in data.columns:\n",
    "    if col == \"university\" or col == \"university_with_year\":\n",
    "        continue\n",
    "    if is_object_dtype(data[col]):\n",
    "        data[col] = data[col].str.lower()\n",
    "        data[col] = data[col].astype('category')\n",
    "        data[col] = data[col].cat.codes + 1"
   ]
  },
  {
   "cell_type": "markdown",
   "metadata": {},
   "source": [
    "### Analysing Missing Values"
   ]
  },
  {
   "cell_type": "code",
   "execution_count": 1140,
   "metadata": {},
   "outputs": [
    {
     "name": "stdout",
     "output_type": "stream",
     "text": [
      "number of NAs by column: \n",
      "number/proportion of cells with missing values: 4115 / 0.04\n",
      "number/proportion of rows with NAs: 3703 / 0.57\n"
     ]
    },
    {
     "data": {
      "image/png": "[encoded data removed]",
      "text/plain": [
       "<Figure size 432x288 with 1 Axes>"
      ]
     },
     "metadata": {
      "needs_background": "light"
     },
     "output_type": "display_data"
    }
   ],
   "source": [
    "total_init_nas = data.isna().sum().sum()\n",
    "\n",
    "print(\"number of NAs by column: \")\n",
    "nas_by_cols = data.isna().sum()[data.isna().sum() > 0]\n",
    "nas_by_cols = pd.DataFrame({\"Column\": nas_by_cols.index, \"Number of NAs\": nas_by_cols})\n",
    "nas_by_cols[\"Proportion of NAs\"] = nas_by_cols[\"Number of NAs\"] / len(data)\n",
    "\n",
    "sns.barplot(\n",
    "    y=\"Column\",\n",
    "    x=\"Proportion of NAs\",\n",
    "    data=nas_by_cols\n",
    ")\n",
    "\n",
    "nb_missing_values = data.isna().sum().sum()\n",
    "prop_missing_values = nb_missing_values / (nb_missing_values + data.count().sum())\n",
    "print(f\"number/proportion of cells with missing values: {nb_missing_values} / {prop_missing_values:0.2f}\")\n",
    "\n",
    "\n",
    "nb_rows_with_na = data.isna().any(axis=1).sum()\n",
    "prop_rows_with_na = nb_rows_with_na / N_init\n",
    "print(f\"number/proportion of rows with NAs: {nb_rows_with_na} / {prop_rows_with_na:0.2f}\")"
   ]
  },
  {
   "cell_type": "markdown",
   "metadata": {},
   "source": [
    "### Clean-up : NA values"
   ]
  },
  {
   "cell_type": "markdown",
   "metadata": {},
   "source": [
    "* Filling the `score`"
   ]
  },
  {
   "cell_type": "code",
   "execution_count": 1141,
   "metadata": {},
   "outputs": [
    {
     "name": "stdout",
     "output_type": "stream",
     "text": [
      "number/proportion of rows filled: 183 / 0.03\n"
     ]
    }
   ],
   "source": [
    "def fill_score_if_possible():\n",
    "    \"\"\"\n",
    "    Check by year:\n",
    "        - Group by ranks\n",
    "        - Check for a value somewhere\n",
    "        - Fill columns with the mean of the values found\n",
    "    \"\"\"\n",
    "\n",
    "    years = data[\"year\"].unique()\n",
    "    \n",
    "    for year in years:\n",
    "        # Check by year\n",
    "        data_year = data.loc[data[\"year\"] == year]\n",
    "\n",
    "        ranks = data_year[\"rank_display\"].unique()\n",
    "        for rank in ranks:\n",
    "            # Group by ranks\n",
    "            data_year_rank = data_year.loc[data[\"rank_display\"] == rank]\n",
    "\n",
    "            # If there's equalities, check for a missing value\n",
    "            # If there is one, fill by the mean of the other values\n",
    "            if data_year_rank.shape[0] > 1:\n",
    "                data_year_rank_scores = data_year_rank[\"score\"]\n",
    "                if data_year_rank_scores.isna().sum() > 0:\n",
    "                    data.loc[\n",
    "                        (data[\"year\"] == year) & (data[\"rank_display\"] == rank),\n",
    "                        \"score\"\n",
    "                    ] = data_year_rank_scores.mean()\n",
    "            \n",
    "\n",
    "init_nb_scores_na = data[\"score\"].isna().sum()\n",
    "fill_score_if_possible()\n",
    "new_nb_scores_na = data[\"score\"].isna().sum()\n",
    "\n",
    "nb_filled_scores = init_nb_scores_na - new_nb_scores_na\n",
    "prop_filled = nb_filled_scores / len(data)\n",
    "print(f\"number/proportion of rows filled: {nb_filled_scores} / {prop_filled:0.2f}\")"
   ]
  },
  {
   "cell_type": "markdown",
   "metadata": {},
   "source": [
    "* Filling numeric columns (`student_faculty_ratio`, `international_students` and `faculty_count`)"
   ]
  },
  {
   "cell_type": "code",
   "execution_count": 1142,
   "metadata": {},
   "outputs": [
    {
     "name": "stdout",
     "output_type": "stream",
     "text": [
      "number/proportion of rows filled: 211 / 0.03\n"
     ]
    }
   ],
   "source": [
    "# Filling some missing values with the median of the values from the same class\n",
    "def fill_with_median(columns_to_fill):\n",
    "    for col in columns_to_fill:\n",
    "        data[col] = data[col].fillna(data.groupby('class')[col].transform('median'))\n",
    "\n",
    "init_nb_numerics_na = data[[\"student_faculty_ratio\", \"international_students\", \"faculty_count\"]].isna().sum().sum()\n",
    "\n",
    "columns_to_fill = [\"student_faculty_ratio\", \"international_students\", \"faculty_count\"]\n",
    "fill_with_median(columns_to_fill)\n",
    "\n",
    "new_nb_numerics_na = data[[\"student_faculty_ratio\", \"international_students\", \"faculty_count\"]].isna().sum().sum()\n",
    "\n",
    "nb_filled_numerics = init_nb_numerics_na - new_nb_numerics_na\n",
    "prop_filled = nb_filled_scores / len(data)\n",
    "print(f\"number/proportion of rows filled: {nb_filled_numerics} / {prop_filled:0.2f}\")"
   ]
  },
  {
   "cell_type": "markdown",
   "metadata": {},
   "source": [
    "* Deleting the other rows"
   ]
  },
  {
   "cell_type": "code",
   "execution_count": 1143,
   "metadata": {},
   "outputs": [
    {
     "name": "stdout",
     "output_type": "stream",
     "text": [
      "number/proportion of rows deleted: 68 / 0.02\n"
     ]
    }
   ],
   "source": [
    "def delete_rows_with_too_much_na(max_na_count):\n",
    "    data_with_na = data.loc[data.isna().any(axis=1)]\n",
    "    data_count_na_by_row = data_with_na.isna().sum(axis=1)\n",
    "    data_count_na_by_row.sort_values(ascending=False)\n",
    "    \n",
    "    data_with_too_much_na_idxs = data_count_na_by_row.loc[data_count_na_by_row >= max_na_count].index\n",
    "    data.drop(data_with_too_much_na_idxs, inplace=True)\n",
    "\n",
    "init_nb_na = data.isna().sum().sum()\n",
    "init_len = len(data)\n",
    "\n",
    "max_na_count = 2\n",
    "delete_rows_with_too_much_na(max_na_count)\n",
    "\n",
    "new_len = len(data)\n",
    "\n",
    "nb_removed_rows = init_len - new_len\n",
    "prop_removed = nb_removed_rows / init_nb_na\n",
    "print(f\"number/proportion of rows deleted: {nb_removed_rows} / {prop_removed:0.2f}\")"
   ]
  },
  {
   "cell_type": "code",
   "execution_count": 1144,
   "metadata": {},
   "outputs": [
    {
     "name": "stdout",
     "output_type": "stream",
     "text": [
      "number/proportions of NAs deleted: 638 / 0.15504252733900364\n"
     ]
    }
   ],
   "source": [
    "total_eventual_nas = data.isna().sum().sum()\n",
    "total_nas_deleted = total_init_nas - total_eventual_nas\n",
    "total_nas_prop = total_nas_deleted / total_init_nas\n",
    "print(f\"number/proportions of NAs deleted: {total_nas_deleted} / {total_nas_prop}\")"
   ]
  },
  {
   "cell_type": "markdown",
   "metadata": {},
   "source": [
    "### Clean-up : Outliers values"
   ]
  },
  {
   "cell_type": "code",
   "execution_count": 1145,
   "metadata": {},
   "outputs": [
    {
     "name": "stdout",
     "output_type": "stream",
     "text": [
      "number/proportion of rows deleted : 305 / 0.05\n"
     ]
    }
   ],
   "source": [
    "# Removing rows with rank i > rank j but score i > score j\n",
    "\n",
    "def delete_outliers():\n",
    "    for year in range(2017, 2017+6):\n",
    "\n",
    "        limit_rank = 400 if year <= 2018 else 500\n",
    "        data_with_score = data.loc[data[\"rank_display_raw\"]<=limit_rank]\n",
    "\n",
    "        # data.loc[data[\"rank_display_raw\"]<=limit_rank, \"old_index\"] = data_with_score.index\n",
    "        data_with_score[\"old_index\"] = data_with_score.index\n",
    "        \n",
    "        year_data = data_with_score.loc[data_with_score[\"year\"]==year]\n",
    "        sorted_score = year_data.sort_values(by=['score'], axis=0, ascending=False).reset_index()\n",
    "\n",
    "        j=1\n",
    "        while j < len(sorted_score):\n",
    "            # Outlier\n",
    "            if sorted_score.loc[j-1][\"rank_display_raw\"] > sorted_score.loc[j][\"rank_display_raw\"]:\n",
    "                data.drop(index=sorted_score.loc[j][\"old_index\"], inplace=True)\n",
    "                sorted_score.drop(index=j, inplace=True)\n",
    "                sorted_score.reset_index(drop=True, inplace=True)\n",
    "            else:\n",
    "                j+=1\n",
    "\n",
    "nb_data_before = len(data)\n",
    "delete_outliers()\n",
    "nb_data_after = len(data)\n",
    "nb_rows_deleted = nb_data_before - nb_data_after\n",
    "prop_rows_deleted = nb_rows_deleted / nb_data_before\n",
    "print(f\"number/proportion of rows deleted : {nb_rows_deleted} / {prop_rows_deleted:0.2f}\")"
   ]
  },
  {
   "cell_type": "code",
   "execution_count": 1146,
   "metadata": {},
   "outputs": [
    {
     "name": "stdout",
     "output_type": "stream",
     "text": [
      "total data lost due to cleaning: 5.75%\n"
     ]
    }
   ],
   "source": [
    "#Calculate data lost to cleaning\n",
    "print(f\"total data lost due to cleaning: {(N_init - len(data))/N_init * 100:0.2f}%\")"
   ]
  },
  {
   "cell_type": "markdown",
   "metadata": {},
   "source": [
    "### Write final data"
   ]
  },
  {
   "cell_type": "code",
   "execution_count": 1147,
   "metadata": {},
   "outputs": [],
   "source": [
    "data.dropna(subset=[\"class\"], inplace=True)\n",
    "data.drop(labels=[\"university\", \"year\"], axis=1, inplace=True)\n",
    "data.to_csv(\"clean_data.csv\")"
   ]
  },
  {
   "cell_type": "markdown",
   "metadata": {},
   "source": [
    "### Visualizing data\n",
    "\n"
   ]
  },
  {
   "cell_type": "code",
   "execution_count": 1148,
   "metadata": {},
   "outputs": [
    {
     "name": "stdout",
     "output_type": "stream",
     "text": [
      "<class 'pandas.core.frame.DataFrame'>\n",
      "Int64Index: 6109 entries, 0 to 6481\n",
      "Data columns (total 14 columns):\n",
      " #   Column                  Non-Null Count  Dtype  \n",
      "---  ------                  --------------  -----  \n",
      " 0   university_with_year    6109 non-null   object \n",
      " 1   rank_display            6109 non-null   int16  \n",
      " 2   rank_display_raw        6109 non-null   float64\n",
      " 3   score                   2634 non-null   float64\n",
      " 4   country                 6109 non-null   int8   \n",
      " 5   city                    6109 non-null   int16  \n",
      " 6   region                  6109 non-null   int8   \n",
      " 7   type                    6109 non-null   int8   \n",
      " 8   research_output         6109 non-null   int8   \n",
      " 9   student_faculty_ratio   6109 non-null   float64\n",
      " 10  international_students  6109 non-null   float64\n",
      " 11  size                    6109 non-null   int8   \n",
      " 12  faculty_count           6109 non-null   float64\n",
      " 13  class                   6109 non-null   float64\n",
      "dtypes: float64(6), int16(2), int8(5), object(1)\n",
      "memory usage: 435.5+ KB\n"
     ]
    }
   ],
   "source": [
    "data.info()"
   ]
  },
  {
   "cell_type": "code",
   "execution_count": 1149,
   "metadata": {},
   "outputs": [
    {
     "data": {
      "image/png": "[encoded data removed]",
      "text/plain": [
       "<Figure size 792x792 with 2 Axes>"
      ]
     },
     "metadata": {
      "needs_background": "light"
     },
     "output_type": "display_data"
    }
   ],
   "source": [
    "data_corr = data.corr()\n",
    "plt.figure(figsize = (11,11))\n",
    "sns.heatmap(abs(data_corr), annot = True)\n",
    "plt.show()"
   ]
  },
  {
   "cell_type": "code",
   "execution_count": 1150,
   "metadata": {},
   "outputs": [
    {
     "data": {
      "image/png": "[encoded data removed]",
      "text/plain": [
       "<Figure size 432x288 with 1 Axes>"
      ]
     },
     "metadata": {
      "needs_background": "light"
     },
     "output_type": "display_data"
    }
   ],
   "source": [
    "ax = sns.countplot(x=\"class\", data=data)\n",
    "ax.set_xticklabels([\"0\", \"1\", \"2\", \"3\", \"4\", \"5\", \"6\", \"7\", \"8\", \"10\", \"12\"])\n",
    "plt.xlabel(\"Classes\")\n",
    "plt.ylabel(\"Count\")\n",
    "plt.show()"
   ]
  }
 ],
 "metadata": {
  "interpreter": {
   "hash": "72aaa1cf4a604209807cb9f6a7f32b940239576833e0b5f88c39d214a1812daf"
  },
  "kernelspec": {
   "display_name": "Python 3 (ipykernel)",
   "language": "python",
   "name": "python3"
  },
  "language_info": {
   "codemirror_mode": {
    "name": "ipython",
    "version": 3
   },
   "file_extension": ".py",
   "mimetype": "text/x-python",
   "name": "python",
   "nbconvert_exporter": "python",
   "pygments_lexer": "ipython3",
   "version": "3.9.7"
  }
 },
 "nbformat": 4,
 "nbformat_minor": 2
}
