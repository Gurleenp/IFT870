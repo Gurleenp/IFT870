{
 "cells": [
  {
   "cell_type": "markdown",
   "metadata": {},
   "source": [
    "### TODO\n",
    "- Manage NA values\n",
    "- Manage useless features\n",
    "    - `year` : merge with name\n",
    "    - `link`, `logo` : delete\n",
    "- Looking for strange values\n",
    "    - score_i > score_j && rank_i > rank_j\n",
    "- Using pandas categories\n",
    "    - `country`, `city`, `region`\n",
    "    - `type`, `size`, `research_ouptut`\n",
    "- Looking for correlation between features\n"
   ]
  },
  {
   "cell_type": "markdown",
   "metadata": {},
   "source": [
    "### Rapport du prof\n",
    "- Tester différentes métriques\n",
    "- Modèles à utiliser :\n",
    "    - Linear model \n",
    "    - XGBoost ++\n",
    "    - Decision tree\n",
    "- Visualiser les données (matrice de corrélation)\n"
   ]
  },
  {
   "cell_type": "markdown",
   "metadata": {},
   "source": [
    "### Notebook settings and imports"
   ]
  },
  {
   "cell_type": "code",
   "execution_count": 139,
   "metadata": {},
   "outputs": [],
   "source": [
    "import numpy as np\n",
    "import pandas as pd\n",
    "\n",
    "import matplotlib.pyplot as plt\n",
    "import seaborn as sns\n",
    "\n",
    "%matplotlib inline"
   ]
  },
  {
   "cell_type": "code",
   "execution_count": 140,
   "metadata": {},
   "outputs": [
    {
     "data": {
      "text/html": [
       "<div>\n",
       "<style scoped>\n",
       "    .dataframe tbody tr th:only-of-type {\n",
       "        vertical-align: middle;\n",
       "    }\n",
       "\n",
       "    .dataframe tbody tr th {\n",
       "        vertical-align: top;\n",
       "    }\n",
       "\n",
       "    .dataframe thead th {\n",
       "        text-align: right;\n",
       "    }\n",
       "</style>\n",
       "<table border=\"1\" class=\"dataframe\">\n",
       "  <thead>\n",
       "    <tr style=\"text-align: right;\">\n",
       "      <th></th>\n",
       "      <th>university</th>\n",
       "      <th>year</th>\n",
       "      <th>rank_display</th>\n",
       "      <th>score</th>\n",
       "      <th>link</th>\n",
       "      <th>country</th>\n",
       "      <th>city</th>\n",
       "      <th>region</th>\n",
       "      <th>logo</th>\n",
       "      <th>type</th>\n",
       "      <th>research_output</th>\n",
       "      <th>student_faculty_ratio</th>\n",
       "      <th>international_students</th>\n",
       "      <th>size</th>\n",
       "      <th>faculty_count</th>\n",
       "    </tr>\n",
       "  </thead>\n",
       "  <tbody>\n",
       "    <tr>\n",
       "      <th>0</th>\n",
       "      <td>Massachusetts Institute of Technology (MIT)</td>\n",
       "      <td>2017</td>\n",
       "      <td>1</td>\n",
       "      <td>100.0</td>\n",
       "      <td>https://www.topuniversities.com/universities/m...</td>\n",
       "      <td>United States</td>\n",
       "      <td>Cambridge</td>\n",
       "      <td>North America</td>\n",
       "      <td>https://www.topuniversities.com/sites/default/...</td>\n",
       "      <td>Private</td>\n",
       "      <td>Very High</td>\n",
       "      <td>4.0</td>\n",
       "      <td>3,730</td>\n",
       "      <td>M</td>\n",
       "      <td>3,065</td>\n",
       "    </tr>\n",
       "    <tr>\n",
       "      <th>1</th>\n",
       "      <td>Stanford University</td>\n",
       "      <td>2017</td>\n",
       "      <td>2</td>\n",
       "      <td>98.7</td>\n",
       "      <td>https://www.topuniversities.com/universities/s...</td>\n",
       "      <td>United States</td>\n",
       "      <td>Stanford</td>\n",
       "      <td>North America</td>\n",
       "      <td>https://www.topuniversities.com/sites/default/...</td>\n",
       "      <td>Private</td>\n",
       "      <td>Very High</td>\n",
       "      <td>3.0</td>\n",
       "      <td>3,879</td>\n",
       "      <td>L</td>\n",
       "      <td>4,725</td>\n",
       "    </tr>\n",
       "    <tr>\n",
       "      <th>2</th>\n",
       "      <td>Harvard University</td>\n",
       "      <td>2017</td>\n",
       "      <td>3</td>\n",
       "      <td>98.3</td>\n",
       "      <td>https://www.topuniversities.com/universities/h...</td>\n",
       "      <td>United States</td>\n",
       "      <td>Cambridge</td>\n",
       "      <td>North America</td>\n",
       "      <td>https://www.topuniversities.com/sites/default/...</td>\n",
       "      <td>Private</td>\n",
       "      <td>Very High</td>\n",
       "      <td>5.0</td>\n",
       "      <td>5,877</td>\n",
       "      <td>L</td>\n",
       "      <td>4,646</td>\n",
       "    </tr>\n",
       "    <tr>\n",
       "      <th>3</th>\n",
       "      <td>University of Cambridge</td>\n",
       "      <td>2017</td>\n",
       "      <td>4</td>\n",
       "      <td>97.2</td>\n",
       "      <td>https://www.topuniversities.com/universities/u...</td>\n",
       "      <td>United Kingdom</td>\n",
       "      <td>Cambridge</td>\n",
       "      <td>Europe</td>\n",
       "      <td>https://www.topuniversities.com/sites/default/...</td>\n",
       "      <td>Public</td>\n",
       "      <td>Very high</td>\n",
       "      <td>4.0</td>\n",
       "      <td>7,925</td>\n",
       "      <td>L</td>\n",
       "      <td>5,800</td>\n",
       "    </tr>\n",
       "    <tr>\n",
       "      <th>4</th>\n",
       "      <td>California Institute of Technology (Caltech)</td>\n",
       "      <td>2017</td>\n",
       "      <td>5</td>\n",
       "      <td>96.9</td>\n",
       "      <td>https://www.topuniversities.com/universities/c...</td>\n",
       "      <td>United States</td>\n",
       "      <td>Pasadena</td>\n",
       "      <td>North America</td>\n",
       "      <td>https://www.topuniversities.com/sites/default/...</td>\n",
       "      <td>Private</td>\n",
       "      <td>Very High</td>\n",
       "      <td>2.0</td>\n",
       "      <td>692</td>\n",
       "      <td>S</td>\n",
       "      <td>968</td>\n",
       "    </tr>\n",
       "  </tbody>\n",
       "</table>\n",
       "</div>"
      ],
      "text/plain": [
       "                                     university  year rank_display  score  \\\n",
       "0  Massachusetts Institute of Technology (MIT)   2017            1  100.0   \n",
       "1                           Stanford University  2017            2   98.7   \n",
       "2                            Harvard University  2017            3   98.3   \n",
       "3                       University of Cambridge  2017            4   97.2   \n",
       "4  California Institute of Technology (Caltech)  2017            5   96.9   \n",
       "\n",
       "                                                link         country  \\\n",
       "0  https://www.topuniversities.com/universities/m...   United States   \n",
       "1  https://www.topuniversities.com/universities/s...   United States   \n",
       "2  https://www.topuniversities.com/universities/h...   United States   \n",
       "3  https://www.topuniversities.com/universities/u...  United Kingdom   \n",
       "4  https://www.topuniversities.com/universities/c...   United States   \n",
       "\n",
       "        city         region  \\\n",
       "0  Cambridge  North America   \n",
       "1   Stanford  North America   \n",
       "2  Cambridge  North America   \n",
       "3  Cambridge         Europe   \n",
       "4   Pasadena  North America   \n",
       "\n",
       "                                                logo     type research_output  \\\n",
       "0  https://www.topuniversities.com/sites/default/...  Private       Very High   \n",
       "1  https://www.topuniversities.com/sites/default/...  Private       Very High   \n",
       "2  https://www.topuniversities.com/sites/default/...  Private       Very High   \n",
       "3  https://www.topuniversities.com/sites/default/...   Public       Very high   \n",
       "4  https://www.topuniversities.com/sites/default/...  Private       Very High   \n",
       "\n",
       "   student_faculty_ratio international_students size faculty_count  \n",
       "0                    4.0                  3,730    M         3,065  \n",
       "1                    3.0                  3,879    L         4,725  \n",
       "2                    5.0                  5,877    L         4,646  \n",
       "3                    4.0                  7,925    L         5,800  \n",
       "4                    2.0                    692    S           968  "
      ]
     },
     "execution_count": 140,
     "metadata": {},
     "output_type": "execute_result"
    }
   ],
   "source": [
    "data_init = pd.read_csv(\"qs-world-university-rankings-2017-to-2022-V2.csv\")\n",
    "N_init, D_init = data_init.shape\n",
    "data_init.head()"
   ]
  },
  {
   "cell_type": "code",
   "execution_count": 141,
   "metadata": {},
   "outputs": [
    {
     "data": {
      "text/plain": [
       "university                   0\n",
       "year                         0\n",
       "rank_display                68\n",
       "score                     3662\n",
       "link                         0\n",
       "country                      0\n",
       "city                       178\n",
       "region                       0\n",
       "logo                         0\n",
       "type                        12\n",
       "research_output              2\n",
       "student_faculty_ratio       75\n",
       "international_students     164\n",
       "size                         2\n",
       "faculty_count               78\n",
       "dtype: int64"
      ]
     },
     "execution_count": 141,
     "metadata": {},
     "output_type": "execute_result"
    }
   ],
   "source": [
    "data_init.isna().sum()"
   ]
  },
  {
   "cell_type": "markdown",
   "metadata": {},
   "source": [
    "### Clean-up : useless features"
   ]
  },
  {
   "cell_type": "code",
   "execution_count": 142,
   "metadata": {},
   "outputs": [],
   "source": [
    "# drop useless columns\n",
    "useless_columns = [\n",
    "    \"link\",\n",
    "    \"logo\"\n",
    "]\n",
    "data = data_init.drop(columns=useless_columns, axis=1)\n",
    "\n",
    "# merge year with university's name\n",
    "university_with_year = data[\"university\"] + data[\"year\"].map(\" ({})\".format)\n",
    "data.insert(0, \"univesity_with_year\", university_with_year)\n",
    "    # data = data.drop(columns=[\"university\", \"year\"], axis=1)"
   ]
  },
  {
   "cell_type": "code",
   "execution_count": 143,
   "metadata": {},
   "outputs": [],
   "source": [
    "# On change les N-M en N\n",
    "\n",
    "rank_display_raw = data[\"rank_display\"].map(lambda rank: str(rank).split(\"-\")[0], na_action='ignore')\n",
    "rank_display_raw = rank_display_raw.fillna(0)  # pour pouvoir convertir en entier\n",
    "rank_display_raw = rank_display_raw.astype('int64')\n",
    "\n",
    "data.insert(4, \"rank_display_raw\", rank_display_raw)"
   ]
  },
  {
   "cell_type": "markdown",
   "metadata": {},
   "source": [
    "### Clean-up : NA values"
   ]
  },
  {
   "cell_type": "code",
   "execution_count": 144,
   "metadata": {},
   "outputs": [],
   "source": [
    "def fill_score_if_possible():\n",
    "    \"\"\"\n",
    "    regarder par année :\n",
    "        - Regrouper par rangs \n",
    "        - Regarder s'il y a une valeur quelque part\n",
    "            - S'il y en a plusieurs, vérifier si elles sont égales\n",
    "        - Remplir les autres de cette valeur \n",
    "\n",
    "    de 3662 à 3533 NA\n",
    "    \"\"\"\n",
    "\n",
    "    years = data[\"year\"].unique()\n",
    "    \n",
    "    for year in years:\n",
    "        # Regarder par année\n",
    "        data_year = data.loc[data[\"year\"] == year]\n",
    "\n",
    "        ranks = data_year[\"rank_display\"].unique()\n",
    "        for rank in ranks:\n",
    "            # Regrouper par rangs\n",
    "            data_year_rank = data_year.loc[data[\"rank_display\"] == rank]\n",
    "\n",
    "            # S'il y a des égalités, on regarde s'il y a des valeurs manquantes\n",
    "            # Si oui, on rempli par la moyenne des valeurs de la même catégorie\n",
    "            if data_year_rank.shape[0] > 1:\n",
    "                data_year_rank_scores = data_year_rank[\"score\"]\n",
    "                if data_year_rank_scores.isna().sum() > 0:\n",
    "                    data.loc[\n",
    "                        (data[\"year\"] == year) & (data[\"rank_display\"] == rank),\n",
    "                        \"score\"\n",
    "                    ] = data_year_rank_scores.mean()\n",
    "            \n",
    "fill_score_if_possible()\n"
   ]
  },
  {
   "cell_type": "code",
   "execution_count": 146,
   "metadata": {},
   "outputs": [],
   "source": [
    "data.isna().sum().loc[data.isna().sum() > 0]\n",
    "\n",
    "data_with_na = data.loc[data.isna().any(axis=1)]\n",
    "data_count_na_by_row = data_with_na.isna().sum(axis=1)\n",
    "data_count_na_by_row.sort_values(ascending=False)\n",
    "\n",
    "max_na_count = 5\n",
    "data_with_too_much_na_idxs = data_count_na_by_row.loc[data_count_na_by_row >= max_na_count].index\n",
    "\n",
    "data.drop(data_with_too_much_na_idxs, inplace=True)\n"
   ]
  }
 ],
 "metadata": {
  "interpreter": {
   "hash": "72aaa1cf4a604209807cb9f6a7f32b940239576833e0b5f88c39d214a1812daf"
  },
  "kernelspec": {
   "display_name": "Python 3.9.7 64-bit",
   "language": "python",
   "name": "python3"
  },
  "language_info": {
   "codemirror_mode": {
    "name": "ipython",
    "version": 3
   },
   "file_extension": ".py",
   "mimetype": "text/x-python",
   "name": "python",
   "nbconvert_exporter": "python",
   "pygments_lexer": "ipython3",
   "version": "3.9.7"
  },
  "orig_nbformat": 4
 },
 "nbformat": 4,
 "nbformat_minor": 2
}
