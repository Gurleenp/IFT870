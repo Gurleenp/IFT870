{
 "cells": [
  {
   "cell_type": "markdown",
   "metadata": {},
   "source": [
    "### TODO\n",
    "- Manage NA values\n",
    "- Manage useless features\n",
    "    - `year` : merge with name\n",
    "    - `link`, `logo` : delete \n",
    "- Using pandas categories\n",
    "    - `country`, `city`, `region`\n",
    "    - `type`, `size`, `research_ouptut`\n",
    "- Looking for correlation between features\n"
   ]
  },
  {
   "cell_type": "markdown",
   "metadata": {},
   "source": [
    "### Rapport du prof\n",
    "- Tester différentes métriques\n",
    "- Modèles à utiliser :\n",
    "    - Linear model \n",
    "    - XGBoost ++\n",
    "    - Decision tree\n",
    "- Visualiser les données (matrice de corrélation)\n"
   ]
  }
 ],
 "metadata": {
  "language_info": {
   "name": "python"
  },
  "orig_nbformat": 4
 },
 "nbformat": 4,
 "nbformat_minor": 2
}
