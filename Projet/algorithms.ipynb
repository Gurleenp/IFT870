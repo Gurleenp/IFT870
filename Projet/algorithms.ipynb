{
 "cells": [
  {
   "cell_type": "markdown",
   "metadata": {},
   "source": [
    "### Initialization and Loading data"
   ]
  },
  {
   "cell_type": "code",
   "execution_count": 26,
   "metadata": {},
   "outputs": [],
   "source": [
    "import numpy as np\n",
    "import pandas as pd\n",
    "\n",
    "import matplotlib.pyplot as plt\n",
    "import seaborn as sns\n",
    "%matplotlib inline\n",
    "\n",
    "from sklearn import tree\n",
    "from sklearn.linear_model import LinearRegression\n",
    "from sklearn.model_selection import train_test_split\n",
    "from sklearn import metrics\n",
    "\n",
    "from xgboost import XGBClassifier\n",
    "from xgboost import XGBRegressor\n",
    "\n",
    "import warnings\n",
    "warnings.filterwarnings('ignore')\n",
    "\n",
    "data = pd.read_csv(\"clean_data.csv\").drop(\"Unnamed: 0\", axis=1)"
   ]
  },
  {
   "cell_type": "markdown",
   "metadata": {},
   "source": [
    "#### Useful fonctions"
   ]
  },
  {
   "cell_type": "code",
   "execution_count": 27,
   "metadata": {},
   "outputs": [],
   "source": [
    "def get_training_sets(data, target_label, test_size=0.2):\n",
    "    return train_test_split(\n",
    "        data.drop(labels=target_label, axis=1),\n",
    "        data[target_label],\n",
    "        test_size=test_size\n",
    "    )\n",
    "\n",
    "\n",
    "def clf_score(clf, test_x, test_y):\n",
    "\n",
    "    pred_y = clf.predict(test_x).astype(int)\n",
    "\n",
    "    d = {\n",
    "        \"accuracy\": metrics.accuracy_score,\n",
    "        \"precision\": lambda true, pred: metrics.precision_score(true, pred, average='micro'),\n",
    "        \"recall\": lambda true, pred: metrics.recall_score(true, pred, average='micro'),\n",
    "        \"jaccard\": lambda true, pred: metrics.jaccard_score(true, pred, average='micro'),\n",
    "    }\n",
    "\n",
    "    return {\n",
    "        name: method(test_y, pred_y)\n",
    "        for name, method in d.items()\n",
    "    }\n",
    "\n",
    "\n",
    "def reg_score(clf, test_x, test_y):\n",
    "\n",
    "    pred_y = clf.predict(test_x)\n",
    "\n",
    "    d = {\n",
    "        \"explained variance\": metrics.explained_variance_score,\n",
    "        \"RMSE\": metrics.mean_squared_error,\n",
    "        \"R2\": metrics.r2_score\n",
    "    }\n",
    "\n",
    "    return {\n",
    "        name: method(test_y, pred_y)\n",
    "        for name, method in d.items()\n",
    "    }"
   ]
  },
  {
   "cell_type": "markdown",
   "metadata": {},
   "source": [
    "### Decision Tree"
   ]
  },
  {
   "cell_type": "markdown",
   "metadata": {},
   "source": [
    "#### Tree Classification"
   ]
  },
  {
   "cell_type": "code",
   "execution_count": 28,
   "metadata": {},
   "outputs": [
    {
     "name": "stdout",
     "output_type": "stream",
     "text": [
      "Scores:\n",
      "  Accuracy: 0.62\n",
      "  Precision: 0.62\n",
      "  Recall: 0.62\n",
      "  Jaccard: 0.45\n",
      "Features importance:\n"
     ]
    },
    {
     "data": {
      "image/png": "[encoded data removed]",
      "text/plain": [
       "<Figure size 432x288 with 1 Axes>"
      ]
     },
     "metadata": {
      "needs_background": "light"
     },
     "output_type": "display_data"
    }
   ],
   "source": [
    "\n",
    "\n",
    "def show_tree_results(clf, test_x, test_y, with_graph=True):\n",
    "    # Scores\n",
    "    scores = clf_score(clf, test_x, test_y)\n",
    "    print(\"Scores:\")\n",
    "    print(\"\\n\".join([\n",
    "        f\"  {name.capitalize()}: {score:0.2f}\"\n",
    "        for name, score in scores.items()\n",
    "    ]))\n",
    "\n",
    "    # Features importance\n",
    "    print(\"Features importance:\")\n",
    "    plt.bar(clf.feature_names_in_, clf.feature_importances_)\n",
    "    plt.xticks(rotation=90)\n",
    "    plt.show()\n",
    "\n",
    "    # Graph\n",
    "    if with_graph:\n",
    "        plt.figure(figsize=(20, 20))\n",
    "        tree.plot_tree(clf, fontsize=6)\n",
    "        plt.savefig('tree_results', dpi=100)\n",
    "        \n",
    "\n",
    "def decision_tree():\n",
    "    not_feature_cols = [\n",
    "        \"university_with_year\", \"rank_display\",\n",
    "        \"rank_display_raw\", \"score\"\n",
    "    ]\n",
    "\n",
    "    tree_data = data.drop(labels=not_feature_cols, axis=1)\n",
    "    train_x, test_x, train_y, test_y = get_training_sets(tree_data, \"class\")\n",
    "    \n",
    "    # Training\n",
    "    tree_clf = tree.DecisionTreeClassifier()\n",
    "    tree_clf.fit(train_x, train_y)\n",
    "    \n",
    "    # Results\n",
    "    show_tree_results(tree_clf, test_x, test_y, with_graph=False)\n",
    "    \n",
    "decision_tree()"
   ]
  },
  {
   "cell_type": "markdown",
   "metadata": {},
   "source": [
    "### Regression"
   ]
  },
  {
   "cell_type": "markdown",
   "metadata": {},
   "source": [
    "#### Linear Model"
   ]
  },
  {
   "cell_type": "code",
   "execution_count": 29,
   "metadata": {},
   "outputs": [
    {
     "name": "stdout",
     "output_type": "stream",
     "text": [
      "Scores:\n",
      "Classification:\n",
      "  Accuracy: 0.16\n",
      "  Precision: 0.16\n",
      "  Recall: 0.16\n",
      "  Jaccard: 0.09\n",
      "Regression:\n",
      "  Explained variance: 0.50\n",
      "  Rmse: 4.56\n",
      "  R2: 0.50\n",
      "Features importance:\n"
     ]
    },
    {
     "data": {
      "image/png": "[encoded data removed]",
      "text/plain": [
       "<Figure size 432x288 with 1 Axes>"
      ]
     },
     "metadata": {
      "needs_background": "light"
     },
     "output_type": "display_data"
    }
   ],
   "source": [
    "def show_lm_results(clf, test_x, test_y):\n",
    "    # Scores\n",
    "    reg_scores = reg_score(clf, test_x, test_y)\n",
    "    clf_scores = clf_score(clf, test_x, test_y)\n",
    "\n",
    "    print(\"Scores:\")\n",
    "    \n",
    "    print(\"Classification:\")\n",
    "    print(\"\\n\".join([\n",
    "        f\"  {name.capitalize()}: {score:0.2f}\"\n",
    "        for name, score in clf_scores.items()\n",
    "    ]))\n",
    "\n",
    "    print(\"Regression:\")\n",
    "    print(\"\\n\".join([\n",
    "        f\"  {name.capitalize()}: {score:0.2f}\"\n",
    "        for name, score in reg_scores.items()\n",
    "    ]))\n",
    "\n",
    "    # Features importance\n",
    "    print(\"Features importance:\")\n",
    "    plt.bar(clf.feature_names_in_, np.abs(clf.coef_))\n",
    "    plt.xticks(rotation=90)\n",
    "    plt.show()\n",
    "\n",
    "\n",
    "scored_data = data.dropna()\n",
    "\n",
    "def linear_model():\n",
    "    not_feature_cols = [\n",
    "        \"university_with_year\", \"rank_display\",\n",
    "        \"rank_display_raw\", \"score\"\n",
    "    ]\n",
    "\n",
    "    lm_data = data.drop(labels=not_feature_cols, axis=1)\n",
    "    train_x, test_x, train_y, test_y = get_training_sets(lm_data, \"class\")\n",
    "\n",
    "    # Training\n",
    "    lm_clf = LinearRegression()\n",
    "    lm_clf.fit(train_x, train_y)\n",
    "\n",
    "    # Results\n",
    "    show_lm_results(lm_clf, test_x, test_y)\n",
    "\n",
    "linear_model()"
   ]
  },
  {
   "cell_type": "markdown",
   "metadata": {},
   "source": [
    "### XGBoost"
   ]
  },
  {
   "cell_type": "markdown",
   "metadata": {},
   "source": [
    "#### Régression"
   ]
  },
  {
   "cell_type": "code",
   "execution_count": 30,
   "metadata": {},
   "outputs": [
    {
     "name": "stdout",
     "output_type": "stream",
     "text": [
      "Scores:\n",
      "  Explained variance: 0.91\n",
      "  Rmse: 33.91\n",
      "  R2: 0.91\n",
      "Features importance:\n"
     ]
    },
    {
     "data": {
      "image/png": "[encoded data removed]",
      "text/plain": [
       "<Figure size 432x288 with 1 Axes>"
      ]
     },
     "metadata": {
      "needs_background": "light"
     },
     "output_type": "display_data"
    }
   ],
   "source": [
    "def show_score_xgreg_results(clf, test_x, test_y, features_names):\n",
    "    # Scores\n",
    "    reg_scores = reg_score(clf, test_x, test_y)\n",
    "\n",
    "    print(\"Scores:\")\n",
    "    print(\"\\n\".join([\n",
    "        f\"  {name.capitalize()}: {score:0.2f}\"\n",
    "        for name, score in reg_scores.items()\n",
    "    ]))\n",
    "\n",
    "    # Features importance\n",
    "    print(\"Features importance:\")\n",
    "    plt.bar(features_names, np.abs(clf.feature_importances_))\n",
    "    plt.xticks(rotation=90)\n",
    "    plt.show()\n",
    "    \n",
    "    \n",
    "def score_xgregression():\n",
    "    not_feature_cols = [\n",
    "        \"university_with_year\", \"rank_display\",\n",
    "        \"rank_display_raw\", \"class\"\n",
    "    ]\n",
    "\n",
    "    xgreg_data = data.drop(labels=not_feature_cols, axis=1)\n",
    "    xgreg_data.dropna(inplace=True)\n",
    "\n",
    "    train_x, test_x, train_y, test_y = get_training_sets(xgreg_data, \"score\")\n",
    "\n",
    "    # Training\n",
    "    xg_clf = XGBRegressor()\n",
    "    xg_clf.fit(train_x, train_y)\n",
    "\n",
    "    # Score\n",
    "    show_score_xgreg_results(xg_clf, test_x, test_y, xgreg_data.drop(labels=\"score\", axis=1).columns)\n",
    "\n",
    "score_xgregression()\n",
    "    \n",
    "    "
   ]
  },
  {
   "cell_type": "markdown",
   "metadata": {},
   "source": [
    "#### Classification"
   ]
  },
  {
   "cell_type": "code",
   "execution_count": 31,
   "metadata": {},
   "outputs": [
    {
     "name": "stdout",
     "output_type": "stream",
     "text": [
      "[18:04:35] WARNING: C:/Users/Administrator/workspace/xgboost-win64_release_1.5.1/src/learner.cc:1115: Starting in XGBoost 1.3.0, the default evaluation metric used with the objective 'multi:softprob' was changed from 'merror' to 'mlogloss'. Explicitly set eval_metric if you'd like to restore the old behavior.\n",
      "Scores:\n",
      "  Accuracy: 0.60\n",
      "  Precision: 0.60\n",
      "  Recall: 0.60\n",
      "  Jaccard: 0.43\n",
      "Features importance:\n"
     ]
    },
    {
     "data": {
      "image/png": "[encoded data removed]",
      "text/plain": [
       "<Figure size 432x288 with 1 Axes>"
      ]
     },
     "metadata": {
      "needs_background": "light"
     },
     "output_type": "display_data"
    }
   ],
   "source": [
    "def show_rank_xgclf_results(clf, test_x, test_y, features_names):\n",
    "    # Scores\n",
    "    clf_scores = clf_score(clf, test_x, test_y)\n",
    "\n",
    "    print(\"Scores:\")\n",
    "    print(\"\\n\".join([\n",
    "        f\"  {name.capitalize()}: {score:0.2f}\"\n",
    "        for name, score in clf_scores.items()\n",
    "    ]))\n",
    "\n",
    "    # Features importance\n",
    "    print(\"Features importance:\")\n",
    "    plt.bar(features_names, np.abs(clf.feature_importances_))\n",
    "    plt.xticks(rotation=90)\n",
    "    plt.show()\n",
    "    \n",
    "\n",
    "def rank_xgclassification():\n",
    "    not_feature_cols = [\n",
    "        \"university_with_year\", \"rank_display\",\n",
    "        \"rank_display_raw\", \"score\"\n",
    "    ]\n",
    "\n",
    "    xgreg_data = data.drop(labels=not_feature_cols, axis=1)\n",
    "    xgreg_data.dropna(inplace=True)\n",
    "\n",
    "    train_x, test_x, train_y, test_y = get_training_sets(xgreg_data, \"class\")\n",
    "\n",
    "    # Training\n",
    "    xg_clf = XGBClassifier()\n",
    "    xg_clf.fit(train_x, train_y)\n",
    "\n",
    "    # Score\n",
    "    show_rank_xgclf_results(xg_clf, test_x, test_y, xgreg_data.drop(labels=\"class\", axis=1).columns)\n",
    "\n",
    "rank_xgclassification()\n",
    "    \n",
    "    "
   ]
  }
 ],
 "metadata": {
  "interpreter": {
   "hash": "72aaa1cf4a604209807cb9f6a7f32b940239576833e0b5f88c39d214a1812daf"
  },
  "kernelspec": {
   "display_name": "Python 3 (ipykernel)",
   "language": "python",
   "name": "python3"
  },
  "language_info": {
   "codemirror_mode": {
    "name": "ipython",
    "version": 3
   },
   "file_extension": ".py",
   "mimetype": "text/x-python",
   "name": "python",
   "nbconvert_exporter": "python",
   "pygments_lexer": "ipython3",
   "version": "3.9.7"
  }
 },
 "nbformat": 4,
 "nbformat_minor": 2
}
