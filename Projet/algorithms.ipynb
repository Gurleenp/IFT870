{
 "cells": [
  {
   "cell_type": "markdown",
   "metadata": {},
   "source": [
    "### Initialization and Loading data"
   ]
  },
  {
   "cell_type": "code",
   "execution_count": 133,
   "metadata": {},
   "outputs": [],
   "source": [
    "import numpy as np\n",
    "import pandas as pd\n",
    "\n",
    "import matplotlib.pyplot as plt\n",
    "import seaborn as sns\n",
    "%matplotlib inline\n",
    "\n",
    "from sklearn import tree\n",
    "from sklearn.linear_model import LinearRegression\n",
    "from sklearn.model_selection import train_test_split\n",
    "from sklearn import metrics\n",
    "\n",
    "from xgboost import XGBClassifier\n",
    "from xgboost import XGBRegressor\n",
    "\n",
    "import warnings\n",
    "warnings.filterwarnings('ignore')\n",
    "\n",
    "data = pd.read_csv(\"clean_data.csv\").drop(\"Unnamed: 0\", axis=1)\n",
    "from pandas.api.types import is_object_dtype\n",
    "\n",
    "# In some columns different caps lead to different categories\n",
    "# So before assigning categories everything is lowercased\n",
    "for col in data.columns:\n",
    "    if col == \"university\" or col == \"university_with_year\":\n",
    "        continue\n",
    "    if is_object_dtype(data[col]):\n",
    "        data[col] = data[col].str.lower()\n",
    "        data[col] = data[col].astype('category')\n",
    "        # data[col] = data[col].cat.codes + 1\n",
    "\n",
    "\n",
    "data_features = data.drop(labels=[\"university_with_year\", \"score\", \"class\", \"rank_display_raw\", \"city\", \"country\"], axis=1)\n",
    "data_score = data[\"score\"]\n",
    "data_class = data[\"class\"]\n",
    "\n",
    "data_no_na = data.dropna()\n",
    "data_features_no_na = data_no_na.drop(labels=[\"university_with_year\", \"score\", \"class\", \"rank_display_raw\", \"city\", \"country\"], axis=1)\n",
    "data_score_no_na = data_no_na[\"score\"]\n",
    "data_class_no_na = data_no_na[\"class\"]\n",
    "\n",
    "data_features = pd.get_dummies(data_features)\n",
    "data_features_no_na = pd.get_dummies(data_features_no_na)\n",
    "data_features.drop(labels=[\"type_public\"], axis=1, inplace=True)\n",
    "data_features_no_na.drop(labels=[\"type_public\"], axis=1, inplace=True)"
   ]
  },
  {
   "cell_type": "markdown",
   "metadata": {},
   "source": [
    "#### Useful functions"
   ]
  },
  {
   "cell_type": "code",
   "execution_count": 134,
   "metadata": {},
   "outputs": [],
   "source": [
    "def get_training_sets(features, target, test_size=0.2):\n",
    "    return train_test_split(\n",
    "        features,\n",
    "        target,\n",
    "        test_size=test_size\n",
    "    )\n",
    "\n",
    "\n",
    "def get_Nth_best_features_df(names, importance, N=15):\n",
    "    best_indexes = np.argpartition(np.abs(importance), -N)[-N:]\n",
    "\n",
    "    return pd.DataFrame({\n",
    "        \"Feature\": names[best_indexes],\n",
    "        \"Importance\": importance[best_indexes]\n",
    "    })\n",
    "    \n",
    "\n",
    "\n",
    "def clf_score(model, test_x, test_y):\n",
    "\n",
    "    pred_y = model.predict(test_x).astype(int)\n",
    "\n",
    "    d = {\n",
    "        \"accuracy\": metrics.accuracy_score,\n",
    "        \"precision\": lambda true, pred: metrics.precision_score(true, pred, average='micro'),\n",
    "        \"recall\": lambda true, pred: metrics.recall_score(true, pred, average='micro'),\n",
    "        \"jaccard\": lambda true, pred: metrics.jaccard_score(true, pred, average='micro'),\n",
    "    }\n",
    "\n",
    "    return {\n",
    "        name: method(test_y, pred_y)\n",
    "        for name, method in d.items()\n",
    "    }\n",
    "\n",
    "\n",
    "def reg_score(model, test_x, test_y):\n",
    "\n",
    "    pred_y = model.predict(test_x)\n",
    "\n",
    "    d = {\n",
    "        \"explained variance\": metrics.explained_variance_score,\n",
    "        \"RMSE\": metrics.mean_squared_error,\n",
    "        \"R2\": metrics.r2_score\n",
    "    }\n",
    "\n",
    "    return {\n",
    "        name: method(test_y, pred_y)\n",
    "        for name, method in d.items()\n",
    "    }"
   ]
  },
  {
   "cell_type": "markdown",
   "metadata": {},
   "source": [
    "### Decision Tree"
   ]
  },
  {
   "cell_type": "markdown",
   "metadata": {},
   "source": [
    "#### Tree Classification"
   ]
  },
  {
   "cell_type": "code",
   "execution_count": 135,
   "metadata": {},
   "outputs": [
    {
     "name": "stdout",
     "output_type": "stream",
     "text": [
      "Scores:\n",
      "  Accuracy: 0.62\n",
      "  Precision: 0.62\n",
      "  Recall: 0.62\n",
      "  Jaccard: 0.45\n"
     ]
    },
    {
     "data": {
      "image/png": "[encoded data removed]",
      "text/plain": [
       "<Figure size 432x288 with 1 Axes>"
      ]
     },
     "metadata": {
      "needs_background": "light"
     },
     "output_type": "display_data"
    }
   ],
   "source": [
    "\n",
    "\n",
    "def show_tree_results(model, test_x, test_y, with_graph=True):\n",
    "    # Scores\n",
    "    scores = clf_score(model, test_x, test_y)\n",
    "    print(\"Scores:\")\n",
    "    print(\"\\n\".join([\n",
    "        f\"  {name.capitalize()}: {score:0.2f}\"\n",
    "        for name, score in scores.items()\n",
    "    ]))\n",
    "\n",
    "    # Features importance\n",
    "    N = 15\n",
    "    best_features = get_Nth_best_features_df(model.feature_names_in_, model.feature_importances_, N)\n",
    "\n",
    "    sns.barplot(\n",
    "        x=\"Importance\", y=\"Feature\",\n",
    "        data=best_features,\n",
    "        order=best_features.sort_values(\"Importance\", ascending=False).Feature\n",
    "    )\n",
    "    plt.title(f\"{N}th most important features:\")\n",
    "    plt.show()\n",
    "\n",
    "    # Graph\n",
    "    if with_graph:\n",
    "        plt.figure(figsize=(20, 20))\n",
    "        tree.plot_tree(model, fontsize=6)\n",
    "        plt.savefig('tree_results', dpi=100)\n",
    "        \n",
    "\n",
    "def decision_tree():\n",
    "\n",
    "    train_x, test_x, train_y, test_y = get_training_sets(data_features, data_class)\n",
    "    \n",
    "    # Training\n",
    "    tree_clf = tree.DecisionTreeClassifier()\n",
    "    tree_clf.fit(train_x, train_y)\n",
    "    \n",
    "    # Results\n",
    "    show_tree_results(tree_clf, test_x, test_y, with_graph=False)\n",
    "    \n",
    "decision_tree()"
   ]
  },
  {
   "cell_type": "markdown",
   "metadata": {},
   "source": [
    "### Regression"
   ]
  },
  {
   "cell_type": "markdown",
   "metadata": {},
   "source": [
    "#### Linear Model"
   ]
  },
  {
   "cell_type": "code",
   "execution_count": 136,
   "metadata": {},
   "outputs": [
    {
     "name": "stdout",
     "output_type": "stream",
     "text": [
      "Scores:\n",
      "Classification:\n",
      "  Accuracy: 0.18\n",
      "  Precision: 0.18\n",
      "  Recall: 0.18\n",
      "  Jaccard: 0.10\n",
      "Regression:\n",
      "  Explained variance: 0.54\n",
      "  Rmse: 4.31\n",
      "  R2: 0.54\n"
     ]
    },
    {
     "data": {
      "image/png": "[encoded data removed]",
      "text/plain": [
       "<Figure size 432x288 with 1 Axes>"
      ]
     },
     "metadata": {
      "needs_background": "light"
     },
     "output_type": "display_data"
    }
   ],
   "source": [
    "def show_lm_results(model, test_x, test_y):\n",
    "    # Scores\n",
    "    reg_scores = reg_score(model, test_x, test_y)\n",
    "    clf_scores = clf_score(model, test_x, test_y)\n",
    "\n",
    "    print(\"Scores:\")\n",
    "    \n",
    "    print(\"Classification:\")\n",
    "    print(\"\\n\".join([\n",
    "        f\"  {name.capitalize()}: {score:0.2f}\"\n",
    "        for name, score in clf_scores.items()\n",
    "    ]))\n",
    "\n",
    "    print(\"Regression:\")\n",
    "    print(\"\\n\".join([\n",
    "        f\"  {name.capitalize()}: {score:0.2f}\"\n",
    "        for name, score in reg_scores.items()\n",
    "    ]))\n",
    "\n",
    "    # Features importance\n",
    "    N = 15\n",
    "    best_features = get_Nth_best_features_df(model.feature_names_in_, np.abs(model.coef_), N)\n",
    "\n",
    "    sns.barplot(\n",
    "        x=\"Importance\", y=\"Feature\",\n",
    "        data=best_features,\n",
    "        order=best_features.sort_values(\"Importance\", ascending=False).Feature\n",
    "    )\n",
    "    plt.title(f\"{N}th most important features:\")\n",
    "    plt.show()\n",
    "\n",
    "\n",
    "scored_data = data.dropna()\n",
    "\n",
    "def linear_model():\n",
    "    train_x, test_x, train_y, test_y = get_training_sets(data_features, data_class)\n",
    "\n",
    "    # Training\n",
    "    lm_clf = LinearRegression()\n",
    "    lm_clf.fit(train_x, train_y)\n",
    "\n",
    "    # Results\n",
    "    show_lm_results(lm_clf, test_x, test_y)\n",
    "\n",
    "linear_model()"
   ]
  },
  {
   "cell_type": "markdown",
   "metadata": {},
   "source": [
    "### XGBoost"
   ]
  },
  {
   "cell_type": "markdown",
   "metadata": {},
   "source": [
    "#### Régression"
   ]
  },
  {
   "cell_type": "code",
   "execution_count": 137,
   "metadata": {},
   "outputs": [
    {
     "name": "stdout",
     "output_type": "stream",
     "text": [
      "Scores:\n",
      "  Explained variance: 0.89\n",
      "  Rmse: 40.08\n",
      "  R2: 0.88\n"
     ]
    },
    {
     "data": {
      "image/png": "[encoded data removed]",
      "text/plain": [
       "<Figure size 432x288 with 1 Axes>"
      ]
     },
     "metadata": {
      "needs_background": "light"
     },
     "output_type": "display_data"
    }
   ],
   "source": [
    "def show_score_xgreg_results(model, test_x, test_y, features_names):\n",
    "    # Scores\n",
    "    reg_scores = reg_score(model, test_x, test_y)\n",
    "\n",
    "    print(\"Scores:\")\n",
    "    print(\"\\n\".join([\n",
    "        f\"  {name.capitalize()}: {score:0.2f}\"\n",
    "        for name, score in reg_scores.items()\n",
    "    ]))\n",
    "\n",
    "    # Features importance\n",
    "    N = 15\n",
    "    best_features = get_Nth_best_features_df(features_names, np.abs(model.feature_importances_), N)\n",
    "\n",
    "    sns.barplot(\n",
    "        x=\"Importance\", y=\"Feature\",\n",
    "        data=best_features,\n",
    "        order=best_features.sort_values(\"Importance\", ascending=False).Feature\n",
    "    )\n",
    "    plt.title(f\"{N}th most important features:\")\n",
    "    plt.show()\n",
    "\n",
    "    \n",
    "def score_xgregression():\n",
    "    # not_feature_cols = [\n",
    "    #     \"university_with_year\", \"rank_display\",\n",
    "    #     \"rank_display_raw\", \"class\"\n",
    "    # ]\n",
    "\n",
    "    # xgreg_data = data.drop(labels=not_feature_cols, axis=1)\n",
    "    # xgreg_data.dropna(inplace=True)\n",
    "    # xgreg_data_features = data_features.dropna()\n",
    "    # xgreg_data_score = data_features.dropna()\n",
    "\n",
    "    train_x, test_x, train_y, test_y = get_training_sets(data_features_no_na, data_score_no_na)\n",
    "\n",
    "    # Training\n",
    "    xg_clf = XGBRegressor()\n",
    "    xg_clf.fit(train_x, train_y)\n",
    "\n",
    "    # Score\n",
    "    show_score_xgreg_results(xg_clf, test_x, test_y, data_features_no_na.columns)\n",
    "\n",
    "score_xgregression()\n",
    "    \n",
    "    "
   ]
  },
  {
   "cell_type": "markdown",
   "metadata": {},
   "source": [
    "#### Classification"
   ]
  },
  {
   "cell_type": "code",
   "execution_count": 138,
   "metadata": {},
   "outputs": [
    {
     "name": "stdout",
     "output_type": "stream",
     "text": [
      "[21:20:20] WARNING: C:/Users/Administrator/workspace/xgboost-win64_release_1.5.1/src/learner.cc:1115: Starting in XGBoost 1.3.0, the default evaluation metric used with the objective 'multi:softprob' was changed from 'merror' to 'mlogloss'. Explicitly set eval_metric if you'd like to restore the old behavior.\n",
      "Scores:\n",
      "  Accuracy: 0.65\n",
      "  Precision: 0.65\n",
      "  Recall: 0.65\n",
      "  Jaccard: 0.48\n"
     ]
    },
    {
     "data": {
      "image/png": "[encoded data removed]",
      "text/plain": [
       "<Figure size 432x288 with 1 Axes>"
      ]
     },
     "metadata": {
      "needs_background": "light"
     },
     "output_type": "display_data"
    }
   ],
   "source": [
    "def show_rank_xgclf_results(model, test_x, test_y, features_names):\n",
    "    # Scores\n",
    "    clf_scores = clf_score(model, test_x, test_y)\n",
    "\n",
    "    print(\"Scores:\")\n",
    "    print(\"\\n\".join([\n",
    "        f\"  {name.capitalize()}: {score:0.2f}\"\n",
    "        for name, score in clf_scores.items()\n",
    "    ]))\n",
    "\n",
    "    # Features importance\n",
    "    N = 15\n",
    "    best_features = get_Nth_best_features_df(features_names, np.abs(model.feature_importances_), N)\n",
    "\n",
    "    sns.barplot(\n",
    "        x=\"Importance\", y=\"Feature\",\n",
    "        data=best_features,\n",
    "        order=best_features.sort_values(\"Importance\", ascending=False).Feature\n",
    "    )\n",
    "    plt.title(f\"{N}th most important features:\")\n",
    "    plt.show()\n",
    "    \n",
    "\n",
    "def rank_xgclassification():\n",
    "    train_x, test_x, train_y, test_y = get_training_sets(data_features, data_class)\n",
    "\n",
    "    # Training\n",
    "    xg_clf = XGBClassifier()\n",
    "    xg_clf.fit(train_x, train_y)\n",
    "\n",
    "    # Score\n",
    "    show_rank_xgclf_results(xg_clf, test_x, test_y, data_features.columns)\n",
    "\n",
    "rank_xgclassification()\n",
    "    \n",
    "    "
   ]
  }
 ],
 "metadata": {
  "interpreter": {
   "hash": "72aaa1cf4a604209807cb9f6a7f32b940239576833e0b5f88c39d214a1812daf"
  },
  "kernelspec": {
   "display_name": "Python 3 (ipykernel)",
   "language": "python",
   "name": "python3"
  },
  "language_info": {
   "codemirror_mode": {
    "name": "ipython",
    "version": 3
   },
   "file_extension": ".py",
   "mimetype": "text/x-python",
   "name": "python",
   "nbconvert_exporter": "python",
   "pygments_lexer": "ipython3",
   "version": "3.9.7"
  }
 },
 "nbformat": 4,
 "nbformat_minor": 2
}
